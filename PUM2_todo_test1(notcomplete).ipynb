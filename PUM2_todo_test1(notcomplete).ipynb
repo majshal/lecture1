{
  "nbformat": 4,
  "nbformat_minor": 0,
  "metadata": {
    "colab": {
      "provenance": []
    },
    "kernelspec": {
      "name": "python3",
      "display_name": "Python 3"
    },
    "language_info": {
      "name": "python"
    }
  },
  "cells": [
    {
      "cell_type": "markdown",
      "source": [
        "Pobierz dane dotyczące scoringu kredytowego\n",
        "\n",
        "*Pracujesz jako analityk danych w globalnej firmie finansowej. Przez lata firma gromadziła podstawowe dane bankowe i wiele informacji związanych z kredytami. Kierownictwo chce zbudować inteligentny system do segregowania ludzi w przedziałach oceny kredytowej, aby zmniejszyć wysiłek ręczny.*\n",
        "\n",
        "**Zadanie na dziś: przygotować dane do modelu**"
      ],
      "metadata": {
        "id": "Y22vMBZYIAcJ"
      }
    },
    {
      "cell_type": "code",
      "source": [
        "#import necessary libraries\n",
        "import pandas as pd\n",
        "import numpy as np\n",
        "import matplotlib.pyplot as plt\n",
        "import seaborn as sns\n",
        "from sklearn.preprocessing import LabelEncoder\n",
        "from sklearn.preprocessing import MultiLabelBinarizer"
      ],
      "metadata": {
        "id": "GN2L8mZzLgao"
      },
      "execution_count": 71,
      "outputs": []
    },
    {
      "cell_type": "markdown",
      "source": [
        "import danych"
      ],
      "metadata": {
        "id": "GQ7bAnsLLg_X"
      }
    },
    {
      "cell_type": "code",
      "execution_count": 72,
      "metadata": {
        "id": "NJSWu_jIRZcq",
        "colab": {
          "base_uri": "https://localhost:8080/"
        },
        "outputId": "1789734c-af16-4ca4-a913-c6d9c62cbf4a"
      },
      "outputs": [
        {
          "output_type": "stream",
          "name": "stderr",
          "text": [
            "<ipython-input-72-db52f5663265>:9: DeprecationWarning: load_dataset is deprecated and will be removed in future version.\n",
            "  df = kagglehub.load_dataset(KaggleDatasetAdapter.PANDAS, \"parisrohan/credit-score-classification\", file_path,\n"
          ]
        },
        {
          "output_type": "stream",
          "name": "stdout",
          "text": [
            "First 5 records:        ID Customer_ID     Month           Name   Age          SSN Occupation  \\\n",
            "0  0x1602   CUS_0xd40   January  Aaron Maashoh    23  821-00-0265  Scientist   \n",
            "1  0x1603   CUS_0xd40  February  Aaron Maashoh    23  821-00-0265  Scientist   \n",
            "2  0x1604   CUS_0xd40     March  Aaron Maashoh  -500  821-00-0265  Scientist   \n",
            "3  0x1605   CUS_0xd40     April  Aaron Maashoh    23  821-00-0265  Scientist   \n",
            "4  0x1606   CUS_0xd40       May  Aaron Maashoh    23  821-00-0265  Scientist   \n",
            "\n",
            "  Annual_Income  Monthly_Inhand_Salary  Num_Bank_Accounts  ...  Credit_Mix  \\\n",
            "0      19114.12            1824.843333                  3  ...           _   \n",
            "1      19114.12                    NaN                  3  ...        Good   \n",
            "2      19114.12                    NaN                  3  ...        Good   \n",
            "3      19114.12                    NaN                  3  ...        Good   \n",
            "4      19114.12            1824.843333                  3  ...        Good   \n",
            "\n",
            "   Outstanding_Debt Credit_Utilization_Ratio     Credit_History_Age  \\\n",
            "0            809.98                26.822620  22 Years and 1 Months   \n",
            "1            809.98                31.944960                    NaN   \n",
            "2            809.98                28.609352  22 Years and 3 Months   \n",
            "3            809.98                31.377862  22 Years and 4 Months   \n",
            "4            809.98                24.797347  22 Years and 5 Months   \n",
            "\n",
            "   Payment_of_Min_Amount Total_EMI_per_month Amount_invested_monthly  \\\n",
            "0                     No           49.574949       80.41529543900253   \n",
            "1                     No           49.574949      118.28022162236736   \n",
            "2                     No           49.574949         81.699521264648   \n",
            "3                     No           49.574949       199.4580743910713   \n",
            "4                     No           49.574949      41.420153086217326   \n",
            "\n",
            "                  Payment_Behaviour     Monthly_Balance Credit_Score  \n",
            "0   High_spent_Small_value_payments  312.49408867943663         Good  \n",
            "1    Low_spent_Large_value_payments  284.62916249607184         Good  \n",
            "2   Low_spent_Medium_value_payments   331.2098628537912         Good  \n",
            "3    Low_spent_Small_value_payments  223.45130972736786         Good  \n",
            "4  High_spent_Medium_value_payments  341.48923103222177         Good  \n",
            "\n",
            "[5 rows x 28 columns]\n"
          ]
        },
        {
          "output_type": "stream",
          "name": "stderr",
          "text": [
            "/usr/local/lib/python3.11/dist-packages/kagglehub/pandas_datasets.py:91: DtypeWarning: Columns (26) have mixed types. Specify dtype option on import or set low_memory=False.\n",
            "  result = read_function(\n"
          ]
        }
      ],
      "source": [
        "# pip install kagglehub[pandas-datasets]\n",
        "import kagglehub\n",
        "from kagglehub import KaggleDatasetAdapter\n",
        "\n",
        "# Set the path to the file you'd like to load\n",
        "file_path = \"train.csv\"\n",
        "\n",
        "# Load the latest version\n",
        "df = kagglehub.load_dataset(KaggleDatasetAdapter.PANDAS, \"parisrohan/credit-score-classification\", file_path,\n",
        ")\n",
        "\n",
        "print(\"First 5 records:\", df.head())"
      ]
    },
    {
      "cell_type": "markdown",
      "source": [
        "**Poznaj dane:**\n",
        "\n",
        "1.   sprawdź wymiary i typy kolumn\n",
        "2.   usuń duplikaty\n",
        "3.   usuń zdbędne kolumny\n",
        "4.   sprawdz liczbę braków danych w poszczególnych kolumnach\n",
        "\n",
        "\n",
        "\n",
        "\n"
      ],
      "metadata": {
        "id": "dpBXHVnkIaSl"
      }
    },
    {
      "cell_type": "code",
      "source": [
        "\n",
        "print(\"Wymiary:\", df.shape)\n",
        "print(\"\\nTypy kolumn:\\n\", df.dtypes)\n",
        "\n",
        "\n",
        "df.drop_duplicates(inplace=True)\n",
        "print(\"\\nWymiary po usunięciu duplikatów:\", df.shape)\n",
        "\n",
        "if 'ID' in df.columns:\n",
        "  df.drop('ID', axis=1, inplace=True)\n",
        "  print(\"\\nWymiary po usunięciu kolumny 'ID':\", df.shape)\n",
        "else:\n",
        "  print(\"\\nKolumna 'ID' nie istnieje w DataFrame.\")\n",
        "\n",
        "print(\"\\nLiczba braków danych w poszczególnych kolumnach:\\n\", df.isnull().sum())\n"
      ],
      "metadata": {
        "id": "Hbjbg0-mk9zP",
        "colab": {
          "base_uri": "https://localhost:8080/"
        },
        "outputId": "ff5d2051-139a-421d-9f6f-8796a3f5c4c8"
      },
      "execution_count": 73,
      "outputs": [
        {
          "output_type": "stream",
          "name": "stdout",
          "text": [
            "Wymiary: (100000, 28)\n",
            "\n",
            "Typy kolumn:\n",
            " ID                           object\n",
            "Customer_ID                  object\n",
            "Month                        object\n",
            "Name                         object\n",
            "Age                          object\n",
            "SSN                          object\n",
            "Occupation                   object\n",
            "Annual_Income                object\n",
            "Monthly_Inhand_Salary       float64\n",
            "Num_Bank_Accounts             int64\n",
            "Num_Credit_Card               int64\n",
            "Interest_Rate                 int64\n",
            "Num_of_Loan                  object\n",
            "Type_of_Loan                 object\n",
            "Delay_from_due_date           int64\n",
            "Num_of_Delayed_Payment       object\n",
            "Changed_Credit_Limit         object\n",
            "Num_Credit_Inquiries        float64\n",
            "Credit_Mix                   object\n",
            "Outstanding_Debt             object\n",
            "Credit_Utilization_Ratio    float64\n",
            "Credit_History_Age           object\n",
            "Payment_of_Min_Amount        object\n",
            "Total_EMI_per_month         float64\n",
            "Amount_invested_monthly      object\n",
            "Payment_Behaviour            object\n",
            "Monthly_Balance              object\n",
            "Credit_Score                 object\n",
            "dtype: object\n",
            "\n",
            "Wymiary po usunięciu duplikatów: (100000, 28)\n",
            "\n",
            "Wymiary po usunięciu kolumny 'ID': (100000, 27)\n",
            "\n",
            "Liczba braków danych w poszczególnych kolumnach:\n",
            " Customer_ID                     0\n",
            "Month                           0\n",
            "Name                         9985\n",
            "Age                             0\n",
            "SSN                             0\n",
            "Occupation                      0\n",
            "Annual_Income                   0\n",
            "Monthly_Inhand_Salary       15002\n",
            "Num_Bank_Accounts               0\n",
            "Num_Credit_Card                 0\n",
            "Interest_Rate                   0\n",
            "Num_of_Loan                     0\n",
            "Type_of_Loan                11408\n",
            "Delay_from_due_date             0\n",
            "Num_of_Delayed_Payment       7002\n",
            "Changed_Credit_Limit            0\n",
            "Num_Credit_Inquiries         1965\n",
            "Credit_Mix                      0\n",
            "Outstanding_Debt                0\n",
            "Credit_Utilization_Ratio        0\n",
            "Credit_History_Age           9030\n",
            "Payment_of_Min_Amount           0\n",
            "Total_EMI_per_month             0\n",
            "Amount_invested_monthly      4479\n",
            "Payment_Behaviour               0\n",
            "Monthly_Balance              1200\n",
            "Credit_Score                    0\n",
            "dtype: int64\n"
          ]
        }
      ]
    },
    {
      "cell_type": "markdown",
      "source": [
        "Usuń kolumny, które nie będą wykorzystywane w analizie ['ID','Customer_ID','SSN','Name']"
      ],
      "metadata": {
        "id": "NZBCT7FgiS03"
      }
    },
    {
      "cell_type": "code",
      "source": [
        "columns_to_drop = ['Customer_ID', 'SSN', 'Name']\n",
        "for col in columns_to_drop:\n",
        "    if col in df.columns:\n",
        "        df.drop(col, axis=1, inplace=True)\n",
        "        print(f\"\\nKolumna '{col}' została usunięta.\")\n",
        "        print(\"\\nWymiary po usunięciu kolumny:\", df.shape)\n",
        "    else:\n",
        "        print(f\"\\nKolumna '{col}' nie istnieje w DataFrame.\")\n"
      ],
      "metadata": {
        "id": "EOrkOWizk_eR",
        "colab": {
          "base_uri": "https://localhost:8080/"
        },
        "outputId": "279e0b6b-60de-4bc2-d74e-54360ca0bc9b"
      },
      "execution_count": 74,
      "outputs": [
        {
          "output_type": "stream",
          "name": "stdout",
          "text": [
            "\n",
            "Kolumna 'Customer_ID' została usunięta.\n",
            "\n",
            "Wymiary po usunięciu kolumny: (100000, 26)\n",
            "\n",
            "Kolumna 'SSN' została usunięta.\n",
            "\n",
            "Wymiary po usunięciu kolumny: (100000, 25)\n",
            "\n",
            "Kolumna 'Name' została usunięta.\n",
            "\n",
            "Wymiary po usunięciu kolumny: (100000, 24)\n"
          ]
        }
      ]
    },
    {
      "cell_type": "markdown",
      "source": [
        "usuń niektore z zbędnych znakow ('_','-'), zmień puste komorki na nan"
      ],
      "metadata": {
        "id": "yFjng3YXNFyk"
      }
    },
    {
      "cell_type": "code",
      "source": [
        "# prompt: usuń niektore z zbędnych znakow ('_','-'), zmień puste komorki na nan\n",
        "\n",
        "import numpy as np\n",
        "# usuń niektore z zbędnych znakow ('_','-'), zmień puste komorki na nan\n",
        "df.columns = df.columns.str.replace('_', ' ')\n",
        "df.columns = df.columns.str.replace('-', ' ')\n",
        "df.replace(r'^\\s*$', np.nan, regex=True, inplace=True)\n"
      ],
      "metadata": {
        "id": "2G0a50DHlGvX"
      },
      "execution_count": 75,
      "outputs": []
    },
    {
      "cell_type": "markdown",
      "source": [
        "Zmień nazwy miesiecy na zmienne liczbowe zgodnie z kolejnością miesięcy"
      ],
      "metadata": {
        "id": "s6WEtmF-lHND"
      }
    },
    {
      "cell_type": "code",
      "source": [
        "month_mapping = {\n",
        "    \"January\": 1, \"February\": 2, \"March\": 3, \"April\": 4, \"May\": 5, \"June\": 6,\n",
        "    \"July\": 7, \"August\": 8, \"September\": 9, \"October\": 10, \"November\": 11, \"December\": 12\n",
        "}\n",
        "\n",
        "if 'Month' in df.columns:\n",
        "    df['Month'] = df['Month'].map(month_mapping)\n",
        "    print(\"\\nZamiana nazw miesięcy na wartości liczbowe została zakończona.\")\n",
        "else:\n",
        "    print(\"\\nKolumna 'Month' nie istnieje w DataFrame.\")\n"
      ],
      "metadata": {
        "id": "vr6s99B1YMHC",
        "colab": {
          "base_uri": "https://localhost:8080/"
        },
        "outputId": "84f795f0-7d43-479d-b768-92b20e7b7de1"
      },
      "execution_count": 77,
      "outputs": [
        {
          "output_type": "stream",
          "name": "stdout",
          "text": [
            "\n",
            "Zamiana nazw miesięcy na wartości liczbowe została zakończona.\n"
          ]
        }
      ]
    },
    {
      "cell_type": "markdown",
      "source": [
        "Zakoduj zmienne tekstowe: 'Occupation', 'Type_of_Loan', 'Payment_Behaviour', 'Credit_Mix', użyj LabelEncodera"
      ],
      "metadata": {
        "id": "wHYhUCgNNeR_"
      }
    },
    {
      "cell_type": "code",
      "source": [
        "label_encoder = LabelEncoder()\n",
        "for column in ['Occupation', 'Type of Loan', 'Payment Behaviour', 'Credit Mix']:\n",
        "    if column in df.columns:\n",
        "        df[column] = label_encoder.fit_transform(df[column].astype(str))\n",
        "        print(f\"Zakodowano kolumnę '{column}'.\")\n",
        "    else:\n",
        "        print(f\"Kolumna '{column}' nie istnieje w DataFrame.\")\n"
      ],
      "metadata": {
        "id": "AeCEzmvZlebi",
        "colab": {
          "base_uri": "https://localhost:8080/"
        },
        "outputId": "099bf531-0964-49bb-858b-baf5b33b4413"
      },
      "execution_count": 78,
      "outputs": [
        {
          "output_type": "stream",
          "name": "stdout",
          "text": [
            "Zakodowano kolumnę 'Occupation'.\n",
            "Zakodowano kolumnę 'Type of Loan'.\n",
            "Zakodowano kolumnę 'Payment Behaviour'.\n",
            "Zakodowano kolumnę 'Credit Mix'.\n"
          ]
        }
      ]
    },
    {
      "cell_type": "markdown",
      "source": [
        "Przelicz kolumne Credit_History_Age na liczbę mięsiecy\n"
      ],
      "metadata": {
        "id": "f9-rD3Yklibx"
      }
    },
    {
      "cell_type": "code",
      "source": [
        "# prompt: Przelicz kolumne Credit_History_Age na liczbę mięsiecy najprościej\n",
        "\n",
        "import pandas as pd\n",
        "import numpy as np\n",
        "def convert_credit_history_age(age_str):\n",
        "    if pd.isna(age_str):\n",
        "        return np.nan\n",
        "    years, months = map(int, age_str.split(' ')[0].split('Y'))\n",
        "    return years * 12 + months\n",
        "\n",
        "if 'Credit History Age' in df.columns:\n",
        "    df['Credit History Age Months'] = df['Credit History Age'].apply(convert_credit_history_age)\n",
        "    print(f\"Dodano kolumnę 'Credit History Age Months'.\")\n",
        "else:\n",
        "    print(f\"Kolumna 'Credit History Age' nie istnieje w DataFrame.\")\n"
      ],
      "metadata": {
        "id": "dQtgMu49ljHx",
        "colab": {
          "base_uri": "https://localhost:8080/",
          "height": 391
        },
        "outputId": "dc705fdf-2c5a-42fd-b4c5-31d5e47d79c1"
      },
      "execution_count": 80,
      "outputs": [
        {
          "output_type": "error",
          "ename": "ValueError",
          "evalue": "not enough values to unpack (expected 2, got 1)",
          "traceback": [
            "\u001b[0;31m---------------------------------------------------------------------------\u001b[0m",
            "\u001b[0;31mValueError\u001b[0m                                Traceback (most recent call last)",
            "\u001b[0;32m<ipython-input-80-7b40f66a3aba>\u001b[0m in \u001b[0;36m<cell line: 0>\u001b[0;34m()\u001b[0m\n\u001b[1;32m     10\u001b[0m \u001b[0;34m\u001b[0m\u001b[0m\n\u001b[1;32m     11\u001b[0m \u001b[0;32mif\u001b[0m \u001b[0;34m'Credit History Age'\u001b[0m \u001b[0;32min\u001b[0m \u001b[0mdf\u001b[0m\u001b[0;34m.\u001b[0m\u001b[0mcolumns\u001b[0m\u001b[0;34m:\u001b[0m\u001b[0;34m\u001b[0m\u001b[0;34m\u001b[0m\u001b[0m\n\u001b[0;32m---> 12\u001b[0;31m     \u001b[0mdf\u001b[0m\u001b[0;34m[\u001b[0m\u001b[0;34m'Credit History Age Months'\u001b[0m\u001b[0;34m]\u001b[0m \u001b[0;34m=\u001b[0m \u001b[0mdf\u001b[0m\u001b[0;34m[\u001b[0m\u001b[0;34m'Credit History Age'\u001b[0m\u001b[0;34m]\u001b[0m\u001b[0;34m.\u001b[0m\u001b[0mapply\u001b[0m\u001b[0;34m(\u001b[0m\u001b[0mconvert_credit_history_age\u001b[0m\u001b[0;34m)\u001b[0m\u001b[0;34m\u001b[0m\u001b[0;34m\u001b[0m\u001b[0m\n\u001b[0m\u001b[1;32m     13\u001b[0m     \u001b[0mprint\u001b[0m\u001b[0;34m(\u001b[0m\u001b[0;34mf\"Dodano kolumnę 'Credit History Age Months'.\"\u001b[0m\u001b[0;34m)\u001b[0m\u001b[0;34m\u001b[0m\u001b[0;34m\u001b[0m\u001b[0m\n\u001b[1;32m     14\u001b[0m \u001b[0;32melse\u001b[0m\u001b[0;34m:\u001b[0m\u001b[0;34m\u001b[0m\u001b[0;34m\u001b[0m\u001b[0m\n",
            "\u001b[0;32m/usr/local/lib/python3.11/dist-packages/pandas/core/series.py\u001b[0m in \u001b[0;36mapply\u001b[0;34m(self, func, convert_dtype, args, by_row, **kwargs)\u001b[0m\n\u001b[1;32m   4922\u001b[0m             \u001b[0margs\u001b[0m\u001b[0;34m=\u001b[0m\u001b[0margs\u001b[0m\u001b[0;34m,\u001b[0m\u001b[0;34m\u001b[0m\u001b[0;34m\u001b[0m\u001b[0m\n\u001b[1;32m   4923\u001b[0m             \u001b[0mkwargs\u001b[0m\u001b[0;34m=\u001b[0m\u001b[0mkwargs\u001b[0m\u001b[0;34m,\u001b[0m\u001b[0;34m\u001b[0m\u001b[0;34m\u001b[0m\u001b[0m\n\u001b[0;32m-> 4924\u001b[0;31m         ).apply()\n\u001b[0m\u001b[1;32m   4925\u001b[0m \u001b[0;34m\u001b[0m\u001b[0m\n\u001b[1;32m   4926\u001b[0m     def _reindex_indexer(\n",
            "\u001b[0;32m/usr/local/lib/python3.11/dist-packages/pandas/core/apply.py\u001b[0m in \u001b[0;36mapply\u001b[0;34m(self)\u001b[0m\n\u001b[1;32m   1425\u001b[0m \u001b[0;34m\u001b[0m\u001b[0m\n\u001b[1;32m   1426\u001b[0m         \u001b[0;31m# self.func is Callable\u001b[0m\u001b[0;34m\u001b[0m\u001b[0;34m\u001b[0m\u001b[0m\n\u001b[0;32m-> 1427\u001b[0;31m         \u001b[0;32mreturn\u001b[0m \u001b[0mself\u001b[0m\u001b[0;34m.\u001b[0m\u001b[0mapply_standard\u001b[0m\u001b[0;34m(\u001b[0m\u001b[0;34m)\u001b[0m\u001b[0;34m\u001b[0m\u001b[0;34m\u001b[0m\u001b[0m\n\u001b[0m\u001b[1;32m   1428\u001b[0m \u001b[0;34m\u001b[0m\u001b[0m\n\u001b[1;32m   1429\u001b[0m     \u001b[0;32mdef\u001b[0m \u001b[0magg\u001b[0m\u001b[0;34m(\u001b[0m\u001b[0mself\u001b[0m\u001b[0;34m)\u001b[0m\u001b[0;34m:\u001b[0m\u001b[0;34m\u001b[0m\u001b[0;34m\u001b[0m\u001b[0m\n",
            "\u001b[0;32m/usr/local/lib/python3.11/dist-packages/pandas/core/apply.py\u001b[0m in \u001b[0;36mapply_standard\u001b[0;34m(self)\u001b[0m\n\u001b[1;32m   1505\u001b[0m         \u001b[0;31m#  Categorical (GH51645).\u001b[0m\u001b[0;34m\u001b[0m\u001b[0;34m\u001b[0m\u001b[0m\n\u001b[1;32m   1506\u001b[0m         \u001b[0maction\u001b[0m \u001b[0;34m=\u001b[0m \u001b[0;34m\"ignore\"\u001b[0m \u001b[0;32mif\u001b[0m \u001b[0misinstance\u001b[0m\u001b[0;34m(\u001b[0m\u001b[0mobj\u001b[0m\u001b[0;34m.\u001b[0m\u001b[0mdtype\u001b[0m\u001b[0;34m,\u001b[0m \u001b[0mCategoricalDtype\u001b[0m\u001b[0;34m)\u001b[0m \u001b[0;32melse\u001b[0m \u001b[0;32mNone\u001b[0m\u001b[0;34m\u001b[0m\u001b[0;34m\u001b[0m\u001b[0m\n\u001b[0;32m-> 1507\u001b[0;31m         mapped = obj._map_values(\n\u001b[0m\u001b[1;32m   1508\u001b[0m             \u001b[0mmapper\u001b[0m\u001b[0;34m=\u001b[0m\u001b[0mcurried\u001b[0m\u001b[0;34m,\u001b[0m \u001b[0mna_action\u001b[0m\u001b[0;34m=\u001b[0m\u001b[0maction\u001b[0m\u001b[0;34m,\u001b[0m \u001b[0mconvert\u001b[0m\u001b[0;34m=\u001b[0m\u001b[0mself\u001b[0m\u001b[0;34m.\u001b[0m\u001b[0mconvert_dtype\u001b[0m\u001b[0;34m\u001b[0m\u001b[0;34m\u001b[0m\u001b[0m\n\u001b[1;32m   1509\u001b[0m         )\n",
            "\u001b[0;32m/usr/local/lib/python3.11/dist-packages/pandas/core/base.py\u001b[0m in \u001b[0;36m_map_values\u001b[0;34m(self, mapper, na_action, convert)\u001b[0m\n\u001b[1;32m    919\u001b[0m             \u001b[0;32mreturn\u001b[0m \u001b[0marr\u001b[0m\u001b[0;34m.\u001b[0m\u001b[0mmap\u001b[0m\u001b[0;34m(\u001b[0m\u001b[0mmapper\u001b[0m\u001b[0;34m,\u001b[0m \u001b[0mna_action\u001b[0m\u001b[0;34m=\u001b[0m\u001b[0mna_action\u001b[0m\u001b[0;34m)\u001b[0m\u001b[0;34m\u001b[0m\u001b[0;34m\u001b[0m\u001b[0m\n\u001b[1;32m    920\u001b[0m \u001b[0;34m\u001b[0m\u001b[0m\n\u001b[0;32m--> 921\u001b[0;31m         \u001b[0;32mreturn\u001b[0m \u001b[0malgorithms\u001b[0m\u001b[0;34m.\u001b[0m\u001b[0mmap_array\u001b[0m\u001b[0;34m(\u001b[0m\u001b[0marr\u001b[0m\u001b[0;34m,\u001b[0m \u001b[0mmapper\u001b[0m\u001b[0;34m,\u001b[0m \u001b[0mna_action\u001b[0m\u001b[0;34m=\u001b[0m\u001b[0mna_action\u001b[0m\u001b[0;34m,\u001b[0m \u001b[0mconvert\u001b[0m\u001b[0;34m=\u001b[0m\u001b[0mconvert\u001b[0m\u001b[0;34m)\u001b[0m\u001b[0;34m\u001b[0m\u001b[0;34m\u001b[0m\u001b[0m\n\u001b[0m\u001b[1;32m    922\u001b[0m \u001b[0;34m\u001b[0m\u001b[0m\n\u001b[1;32m    923\u001b[0m     \u001b[0;34m@\u001b[0m\u001b[0mfinal\u001b[0m\u001b[0;34m\u001b[0m\u001b[0;34m\u001b[0m\u001b[0m\n",
            "\u001b[0;32m/usr/local/lib/python3.11/dist-packages/pandas/core/algorithms.py\u001b[0m in \u001b[0;36mmap_array\u001b[0;34m(arr, mapper, na_action, convert)\u001b[0m\n\u001b[1;32m   1741\u001b[0m     \u001b[0mvalues\u001b[0m \u001b[0;34m=\u001b[0m \u001b[0marr\u001b[0m\u001b[0;34m.\u001b[0m\u001b[0mastype\u001b[0m\u001b[0;34m(\u001b[0m\u001b[0mobject\u001b[0m\u001b[0;34m,\u001b[0m \u001b[0mcopy\u001b[0m\u001b[0;34m=\u001b[0m\u001b[0;32mFalse\u001b[0m\u001b[0;34m)\u001b[0m\u001b[0;34m\u001b[0m\u001b[0;34m\u001b[0m\u001b[0m\n\u001b[1;32m   1742\u001b[0m     \u001b[0;32mif\u001b[0m \u001b[0mna_action\u001b[0m \u001b[0;32mis\u001b[0m \u001b[0;32mNone\u001b[0m\u001b[0;34m:\u001b[0m\u001b[0;34m\u001b[0m\u001b[0;34m\u001b[0m\u001b[0m\n\u001b[0;32m-> 1743\u001b[0;31m         \u001b[0;32mreturn\u001b[0m \u001b[0mlib\u001b[0m\u001b[0;34m.\u001b[0m\u001b[0mmap_infer\u001b[0m\u001b[0;34m(\u001b[0m\u001b[0mvalues\u001b[0m\u001b[0;34m,\u001b[0m \u001b[0mmapper\u001b[0m\u001b[0;34m,\u001b[0m \u001b[0mconvert\u001b[0m\u001b[0;34m=\u001b[0m\u001b[0mconvert\u001b[0m\u001b[0;34m)\u001b[0m\u001b[0;34m\u001b[0m\u001b[0;34m\u001b[0m\u001b[0m\n\u001b[0m\u001b[1;32m   1744\u001b[0m     \u001b[0;32melse\u001b[0m\u001b[0;34m:\u001b[0m\u001b[0;34m\u001b[0m\u001b[0;34m\u001b[0m\u001b[0m\n\u001b[1;32m   1745\u001b[0m         return lib.map_infer_mask(\n",
            "\u001b[0;32mlib.pyx\u001b[0m in \u001b[0;36mpandas._libs.lib.map_infer\u001b[0;34m()\u001b[0m\n",
            "\u001b[0;32m<ipython-input-80-7b40f66a3aba>\u001b[0m in \u001b[0;36mconvert_credit_history_age\u001b[0;34m(age_str)\u001b[0m\n\u001b[1;32m      6\u001b[0m     \u001b[0;32mif\u001b[0m \u001b[0mpd\u001b[0m\u001b[0;34m.\u001b[0m\u001b[0misna\u001b[0m\u001b[0;34m(\u001b[0m\u001b[0mage_str\u001b[0m\u001b[0;34m)\u001b[0m\u001b[0;34m:\u001b[0m\u001b[0;34m\u001b[0m\u001b[0;34m\u001b[0m\u001b[0m\n\u001b[1;32m      7\u001b[0m         \u001b[0;32mreturn\u001b[0m \u001b[0mnp\u001b[0m\u001b[0;34m.\u001b[0m\u001b[0mnan\u001b[0m\u001b[0;34m\u001b[0m\u001b[0;34m\u001b[0m\u001b[0m\n\u001b[0;32m----> 8\u001b[0;31m     \u001b[0myears\u001b[0m\u001b[0;34m,\u001b[0m \u001b[0mmonths\u001b[0m \u001b[0;34m=\u001b[0m \u001b[0mmap\u001b[0m\u001b[0;34m(\u001b[0m\u001b[0mint\u001b[0m\u001b[0;34m,\u001b[0m \u001b[0mage_str\u001b[0m\u001b[0;34m.\u001b[0m\u001b[0msplit\u001b[0m\u001b[0;34m(\u001b[0m\u001b[0;34m' '\u001b[0m\u001b[0;34m)\u001b[0m\u001b[0;34m[\u001b[0m\u001b[0;36m0\u001b[0m\u001b[0;34m]\u001b[0m\u001b[0;34m.\u001b[0m\u001b[0msplit\u001b[0m\u001b[0;34m(\u001b[0m\u001b[0;34m'Y'\u001b[0m\u001b[0;34m)\u001b[0m\u001b[0;34m)\u001b[0m\u001b[0;34m\u001b[0m\u001b[0;34m\u001b[0m\u001b[0m\n\u001b[0m\u001b[1;32m      9\u001b[0m     \u001b[0;32mreturn\u001b[0m \u001b[0myears\u001b[0m \u001b[0;34m*\u001b[0m \u001b[0;36m12\u001b[0m \u001b[0;34m+\u001b[0m \u001b[0mmonths\u001b[0m\u001b[0;34m\u001b[0m\u001b[0;34m\u001b[0m\u001b[0m\n\u001b[1;32m     10\u001b[0m \u001b[0;34m\u001b[0m\u001b[0m\n",
            "\u001b[0;31mValueError\u001b[0m: not enough values to unpack (expected 2, got 1)"
          ]
        }
      ]
    },
    {
      "cell_type": "code",
      "source": [
        "# Rozdzielanie wartości po przecinku i usuwanie zbędnych spacji\n",
        "df['Type_of_Loan'] = df['Type_of_Loan'].str.split(', ')\n",
        "\n",
        "# Użycie MultiLabelBinarizer do One-Hot Encoding\n",
        "mlb = MultiLabelBinarizer()\n",
        "encoded_df = pd.DataFrame(mlb.fit_transform(df['Type_of_Loan']), columns=mlb.classes_)\n",
        "\n",
        "# Łączenie z oryginalnym DataFrame\n",
        "df = df.join(encoded_df).drop(columns=['Type_of_Loan'])\n",
        "\n",
        "print(df.head())"
      ],
      "metadata": {
        "id": "V5kZULgXV9jE"
      },
      "execution_count": null,
      "outputs": []
    },
    {
      "cell_type": "markdown",
      "source": [
        "Zmien inne zmienne na numeryczne"
      ],
      "metadata": {
        "id": "BIZ0jlOkNUr7"
      }
    },
    {
      "cell_type": "markdown",
      "source": [
        "Uzupełnij braki w kolumnie Monthly_Inhand_Salary,  Annual_Income, .. średnią"
      ],
      "metadata": {
        "id": "iEaaedrkZazE"
      }
    },
    {
      "cell_type": "code",
      "source": [],
      "metadata": {
        "id": "fsqzLQJoluEC"
      },
      "execution_count": null,
      "outputs": []
    },
    {
      "cell_type": "markdown",
      "source": [
        "Narysuj rozkłady zmiennych 'Annual_Income', 'Monthly_Balance'"
      ],
      "metadata": {
        "id": "tDsQgHwDaPIy"
      }
    },
    {
      "cell_type": "code",
      "source": [],
      "metadata": {
        "id": "VDiN9dtkl2qz"
      },
      "execution_count": null,
      "outputs": []
    },
    {
      "cell_type": "markdown",
      "source": [
        "usuń wartości odstające (w przypadku wieku wszystkie ujemne i te powyzej 100 lat)"
      ],
      "metadata": {
        "id": "BNJ-R8r6gPVs"
      }
    },
    {
      "cell_type": "code",
      "source": [],
      "metadata": {
        "id": "N3MhaQ9_l2-G"
      },
      "execution_count": null,
      "outputs": []
    },
    {
      "cell_type": "markdown",
      "source": [
        "Zwizualizuj korelacje między zmiennymi"
      ],
      "metadata": {
        "id": "nPMd_OGqgHhL"
      }
    },
    {
      "cell_type": "code",
      "source": [],
      "metadata": {
        "id": "ScSHId1Sl-z5"
      },
      "execution_count": null,
      "outputs": []
    }
  ]
}