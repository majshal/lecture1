{
  "nbformat": 4,
  "nbformat_minor": 0,
  "metadata": {
    "colab": {
      "provenance": [],
      "authorship_tag": "ABX9TyOYheoFAYrqkjV+9fKsEhH1",
      "include_colab_link": true
    },
    "kernelspec": {
      "name": "python3",
      "display_name": "Python 3"
    },
    "language_info": {
      "name": "python"
    }
  },
  "cells": [
    {
      "cell_type": "markdown",
      "metadata": {
        "id": "view-in-github",
        "colab_type": "text"
      },
      "source": [
        "<a href=\"https://colab.research.google.com/github/majshal/lecture1/blob/main/Untitled0.ipynb\" target=\"_parent\"><img src=\"https://colab.research.google.com/assets/colab-badge.svg\" alt=\"Open In Colab\"/></a>"
      ]
    },
    {
      "cell_type": "code",
      "source": [],
      "metadata": {
        "id": "i43BwlT5UQrL"
      },
      "execution_count": null,
      "outputs": []
    },
    {
      "cell_type": "code",
      "execution_count": 3,
      "metadata": {
        "colab": {
          "base_uri": "https://localhost:8080/"
        },
        "id": "IYUywXLYTorB",
        "outputId": "e98eb106-3810-4c06-aede-f9083973b4be"
      },
      "outputs": [
        {
          "output_type": "stream",
          "name": "stdout",
          "text": [
            "fatal: not in a git directory\n",
            "fatal: not in a git directory\n",
            "fatal: not in a git directory\n"
          ]
        }
      ],
      "source": [
        "!git config -- global user.name \"majshal\"\n",
        "!git config -- global user.email \"jakub.majzoub@gmail.com\"\n",
        "!git config -- global user.password \"MalyMorderca271\""
      ]
    },
    {
      "cell_type": "code",
      "source": [],
      "metadata": {
        "id": "-cXYxycBUQvK"
      },
      "execution_count": null,
      "outputs": []
    }
  ]
}